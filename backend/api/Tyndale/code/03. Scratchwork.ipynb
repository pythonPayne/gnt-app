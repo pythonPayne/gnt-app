{
 "cells": [
  {
   "cell_type": "code",
   "execution_count": 134,
   "metadata": {},
   "outputs": [],
   "source": [
    "import pandas as pd\n",
    "from duckdb import query\n",
    "import pandas as pd\n",
    "import numpy as np\n",
    "pd.options.display.max_columns = 200\n",
    "pd.options.display.max_rows = 500\n",
    "pd.set_option('mode.chained_assignment', None)"
   ]
  },
  {
   "cell_type": "code",
   "execution_count": 135,
   "metadata": {},
   "outputs": [],
   "source": [
    "word = pd.read_pickle('../../pickles/word.pkl')\n",
    "pars = pd.read_pickle('../../pickles/pars.pkl')\n",
    "lexn = pd.read_pickle('../../pickles/lexn.pkl')\n",
    "pdgm = pd.read_pickle('../../pickles/pdgm.pkl')\n",
    "book = pd.read_pickle('../../pickles/book.pkl')\n",
    "chap = pd.read_pickle('../../pickles/chap.pkl')\n",
    "vers = pd.read_pickle('../../pickles/vers.pkl')"
   ]
  }
 ],
 "metadata": {
  "kernelspec": {
   "display_name": "Python 3.8.13 64-bit ('3.8.13')",
   "language": "python",
   "name": "python3"
  },
  "language_info": {
   "codemirror_mode": {
    "name": "ipython",
    "version": 3
   },
   "file_extension": ".py",
   "mimetype": "text/x-python",
   "name": "python",
   "nbconvert_exporter": "python",
   "pygments_lexer": "ipython3",
   "version": "3.8.13"
  },
  "orig_nbformat": 4,
  "vscode": {
   "interpreter": {
    "hash": "f5bb5e88dc6914d98a5204b45f9aa8379f48f66d370cba0615e89216fef447d0"
   }
  }
 },
 "nbformat": 4,
 "nbformat_minor": 2
}
