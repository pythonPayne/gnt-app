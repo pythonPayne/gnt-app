{
 "cells": [
  {
   "cell_type": "code",
   "execution_count": null,
   "metadata": {},
   "outputs": [],
   "source": [
    "import pandas as pd\n",
    "from duckdb import query\n",
    "import pandas as pd\n",
    "import numpy as np\n",
    "pd.options.display.max_columns = 200\n",
    "pd.options.display.max_rows = 500\n",
    "pd.set_option('mode.chained_assignment', None)"
   ]
  },
  {
   "cell_type": "code",
   "execution_count": 17,
   "metadata": {},
   "outputs": [],
   "source": [
    "word = pd.read_pickle('../../pickles/word.pkl')\n",
    "pars = pd.read_pickle('../../pickles/pars.pkl')\n",
    "lexn = pd.read_pickle('../../pickles/lexn.pkl')\n",
    "pdgm = pd.read_pickle('../../pickles/pdgm.pkl')\n",
    "book = pd.read_pickle('../../pickles/book.pkl')\n",
    "chap = pd.read_pickle('../../pickles/chap.pkl')\n",
    "vers = pd.read_pickle('../../pickles/vers.pkl')\n",
    "df = pd.read_pickle('../../pickles/gnt.pkl')"
   ]
  },
  {
   "cell_type": "code",
   "execution_count": null,
   "metadata": {},
   "outputs": [],
   "source": [
    "lexn_id = '0154'\n",
    "a = df[df.lexn_id==lexn_id]"
   ]
  },
  {
   "cell_type": "code",
   "execution_count": null,
   "metadata": {},
   "outputs": [],
   "source": [
    "vers_ids = list(a.vers_id.unique())"
   ]
  },
  {
   "cell_type": "code",
   "execution_count": null,
   "metadata": {},
   "outputs": [],
   "source": [
    "versDf = []\n",
    "verses = []\n",
    "for vers_id in vers_ids:\n",
    "    vers = df[df.vers_id==vers_id]    \n",
    "    versDf.append(vers)\n",
    "    vers_ref_abbrev = list(vers.vers_ref_abbrev.unique())[0]\n",
    "    verses.append([vers_ref_abbrev,]+[(word).replace('¶','') for word,punc in list(zip(vers.word_greek, vers.word_greek_punc))])\n",
    "    verses.append([vers_ref_abbrev,]+[(word).replace('¶','') for word,punc in list(zip(vers.word_english, vers.word_english_punc))])\n",
    "temp = pd.DataFrame(verses).fillna('')\n",
    "versDf = pd.concat(versDf)\n",
    "    "
   ]
  },
  {
   "cell_type": "code",
   "execution_count": null,
   "metadata": {},
   "outputs": [],
   "source": [
    "versDf"
   ]
  },
  {
   "cell_type": "code",
   "execution_count": 18,
   "metadata": {},
   "outputs": [
    {
     "ename": "AttributeError",
     "evalue": "'DataFrame' object has no attribute 'word_greek'",
     "output_type": "error",
     "traceback": [
      "\u001b[0;31m---------------------------------------------------------------------------\u001b[0m",
      "\u001b[0;31mAttributeError\u001b[0m                            Traceback (most recent call last)",
      "\u001b[1;32m/Users/stephen/dev/gnt-app/backend/api/Tyndale/code/03. Scratchwork.ipynb Cell 7\u001b[0m in \u001b[0;36m<cell line: 1>\u001b[0;34m()\u001b[0m\n\u001b[0;32m----> <a href='vscode-notebook-cell:/Users/stephen/dev/gnt-app/backend/api/Tyndale/code/03.%20Scratchwork.ipynb#X10sZmlsZQ%3D%3D?line=0'>1</a>\u001b[0m vers1 \u001b[39m=\u001b[39m [(word \u001b[39m+\u001b[39m punc)\u001b[39m.\u001b[39mreplace(\u001b[39m'\u001b[39m\u001b[39m¶\u001b[39m\u001b[39m'\u001b[39m,\u001b[39m'\u001b[39m\u001b[39m'\u001b[39m) \u001b[39mfor\u001b[39;00m word,punc \u001b[39min\u001b[39;00m \u001b[39mlist\u001b[39m(\u001b[39mzip\u001b[39m(vers\u001b[39m.\u001b[39;49mword_greek, vers\u001b[39m.\u001b[39mword_greek_punc))]\n",
      "File \u001b[0;32m~/.pyenv/versions/3.8.13/envs/venv/lib/python3.8/site-packages/pandas/core/generic.py:5487\u001b[0m, in \u001b[0;36mNDFrame.__getattr__\u001b[0;34m(self, name)\u001b[0m\n\u001b[1;32m   5480\u001b[0m \u001b[39mif\u001b[39;00m (\n\u001b[1;32m   5481\u001b[0m     name \u001b[39mnot\u001b[39;00m \u001b[39min\u001b[39;00m \u001b[39mself\u001b[39m\u001b[39m.\u001b[39m_internal_names_set\n\u001b[1;32m   5482\u001b[0m     \u001b[39mand\u001b[39;00m name \u001b[39mnot\u001b[39;00m \u001b[39min\u001b[39;00m \u001b[39mself\u001b[39m\u001b[39m.\u001b[39m_metadata\n\u001b[1;32m   5483\u001b[0m     \u001b[39mand\u001b[39;00m name \u001b[39mnot\u001b[39;00m \u001b[39min\u001b[39;00m \u001b[39mself\u001b[39m\u001b[39m.\u001b[39m_accessors\n\u001b[1;32m   5484\u001b[0m     \u001b[39mand\u001b[39;00m \u001b[39mself\u001b[39m\u001b[39m.\u001b[39m_info_axis\u001b[39m.\u001b[39m_can_hold_identifiers_and_holds_name(name)\n\u001b[1;32m   5485\u001b[0m ):\n\u001b[1;32m   5486\u001b[0m     \u001b[39mreturn\u001b[39;00m \u001b[39mself\u001b[39m[name]\n\u001b[0;32m-> 5487\u001b[0m \u001b[39mreturn\u001b[39;00m \u001b[39mobject\u001b[39;49m\u001b[39m.\u001b[39;49m\u001b[39m__getattribute__\u001b[39;49m(\u001b[39mself\u001b[39;49m, name)\n",
      "\u001b[0;31mAttributeError\u001b[0m: 'DataFrame' object has no attribute 'word_greek'"
     ]
    }
   ],
   "source": [
    "vers1 = [(word + punc).replace('¶','') for word,punc in list(zip(vers.word_greek, vers.word_greek_punc))]"
   ]
  },
  {
   "cell_type": "code",
   "execution_count": 15,
   "metadata": {},
   "outputs": [],
   "source": [
    "verses = [vers1, ]"
   ]
  },
  {
   "cell_type": "code",
   "execution_count": 16,
   "metadata": {},
   "outputs": [
    {
     "data": {
      "text/html": [
       "<div>\n",
       "<style scoped>\n",
       "    .dataframe tbody tr th:only-of-type {\n",
       "        vertical-align: middle;\n",
       "    }\n",
       "\n",
       "    .dataframe tbody tr th {\n",
       "        vertical-align: top;\n",
       "    }\n",
       "\n",
       "    .dataframe thead th {\n",
       "        text-align: right;\n",
       "    }\n",
       "</style>\n",
       "<table border=\"1\" class=\"dataframe\">\n",
       "  <thead>\n",
       "    <tr style=\"text-align: right;\">\n",
       "      <th></th>\n",
       "      <th>0</th>\n",
       "      <th>1</th>\n",
       "      <th>2</th>\n",
       "      <th>3</th>\n",
       "      <th>4</th>\n",
       "      <th>5</th>\n",
       "      <th>6</th>\n",
       "      <th>7</th>\n",
       "      <th>8</th>\n",
       "      <th>9</th>\n",
       "      <th>10</th>\n",
       "      <th>11</th>\n",
       "      <th>12</th>\n",
       "      <th>13</th>\n",
       "      <th>14</th>\n",
       "      <th>15</th>\n",
       "      <th>16</th>\n",
       "      <th>17</th>\n",
       "      <th>18</th>\n",
       "      <th>19</th>\n",
       "      <th>20</th>\n",
       "    </tr>\n",
       "  </thead>\n",
       "  <tbody>\n",
       "    <tr>\n",
       "      <th>0</th>\n",
       "      <td>Δημητρίῳ</td>\n",
       "      <td>μεμαρτύρηται</td>\n",
       "      <td>ὑπὸ</td>\n",
       "      <td>πάντων</td>\n",
       "      <td>καὶ</td>\n",
       "      <td>ὑπὸ</td>\n",
       "      <td>αὐτῆς</td>\n",
       "      <td>τῆς</td>\n",
       "      <td>ἀληθείας·</td>\n",
       "      <td>καὶ</td>\n",
       "      <td>ἡμεῖς</td>\n",
       "      <td>δὲ</td>\n",
       "      <td>μαρτυροῦμεν,</td>\n",
       "      <td>καὶ</td>\n",
       "      <td>οἶδας</td>\n",
       "      <td>ὅτι</td>\n",
       "      <td>ἡ</td>\n",
       "      <td>μαρτυρία</td>\n",
       "      <td>ἡμῶν</td>\n",
       "      <td>ἀληθής</td>\n",
       "      <td>ἐστιν.</td>\n",
       "    </tr>\n",
       "  </tbody>\n",
       "</table>\n",
       "</div>"
      ],
      "text/plain": [
       "         0             1    2       3    4    5      6    7          8    9   \\\n",
       "0  Δημητρίῳ  μεμαρτύρηται  ὑπὸ  πάντων  καὶ  ὑπὸ  αὐτῆς  τῆς  ἀληθείας·  καὶ   \n",
       "\n",
       "      10  11            12   13     14   15 16        17    18      19      20  \n",
       "0  ἡμεῖς  δὲ  μαρτυροῦμεν,  καὶ  οἶδας  ὅτι  ἡ  μαρτυρία  ἡμῶν  ἀληθής  ἐστιν.  "
      ]
     },
     "execution_count": 16,
     "metadata": {},
     "output_type": "execute_result"
    }
   ],
   "source": [
    "pd.DataFrame(verses).fillna('')"
   ]
  },
  {
   "cell_type": "code",
   "execution_count": null,
   "metadata": {},
   "outputs": [],
   "source": []
  },
  {
   "cell_type": "code",
   "execution_count": null,
   "metadata": {},
   "outputs": [],
   "source": []
  }
 ],
 "metadata": {
  "kernelspec": {
   "display_name": "Python 3.8.13 64-bit ('venv')",
   "language": "python",
   "name": "python3"
  },
  "language_info": {
   "codemirror_mode": {
    "name": "ipython",
    "version": 3
   },
   "file_extension": ".py",
   "mimetype": "text/x-python",
   "name": "python",
   "nbconvert_exporter": "python",
   "pygments_lexer": "ipython3",
   "version": "3.8.13"
  },
  "orig_nbformat": 4,
  "vscode": {
   "interpreter": {
    "hash": "0a29e89b845665d7d0789a8321d577e6c69fdc3d91ccd79449c46cb24170a134"
   }
  }
 },
 "nbformat": 4,
 "nbformat_minor": 2
}
